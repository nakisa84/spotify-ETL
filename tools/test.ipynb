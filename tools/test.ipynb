{
 "cells": [
  {
   "cell_type": "code",
   "execution_count": 1,
   "metadata": {},
   "outputs": [],
   "source": [
    "import os\n",
    "import spotipy\n",
    "from spotipy.oauth2 import SpotifyOAuth\n",
    "\n",
    "global AUTH_URL,SCOPE,USERNAME,CLIENT_ID,CLIENT_SECRET,REDIRECT_URL\n",
    "AUTH_URL = 'https://accounts.spotify.com/api/token'\n",
    "SCOPE = 'playlist-modify-public user-read-recently-played'\n",
    "USERNAME = os.getenv('SPOTIFY_USER_NAME')\n",
    "CLIENT_ID = os.getenv('SPOTIFY_CLIENT_ID')\n",
    "CLIENT_SECRET = os.getenv('SPTOFY_CLIENT_SECRET')\n",
    "REDIRECT_URL = 'http://localhost:9000'\n",
    "\n",
    "token = SpotifyOAuth(scope=SCOPE,username=USERNAME,client_id=CLIENT_ID,client_secret=CLIENT_SECRET,redirect_uri=REDIRECT_URL)\n",
    "spotify_client = spotipy.Spotify(auth_manager=token)\n"
   ]
  },
  {
   "cell_type": "code",
   "execution_count": 3,
   "metadata": {},
   "outputs": [],
   "source": [
    "def spotify_playlists():\n",
    "    playlists = {'rap_caviar':'spotify:playlist:37i9dQZF1DX0XUsuxWHRQd'}\n",
    "    return playlists"
   ]
  },
  {
   "cell_type": "code",
   "execution_count": null,
   "metadata": {},
   "outputs": [],
   "source": [
    "def get_album_artists(spotipy_object,uris):\n",
    "    albums = {}\n",
    "    playlist_tracks = spotipy_object.playlist_tracks(playlist_id=uris)\n",
    "\n",
    "   \n",
    "    for song in playlist_tracks['items']:\n",
    "        if song['track']:\n",
    "            if song['track']['album'] and song['track']['album']['name']:\n",
    "                print(song['track']['album']['name'])\n",
    "                print(song['track']['artists'][0]['name'])\n",
    "                albums[song['track']['name']] = {}\n",
    "                albums[song['track']['name']]['uri']        = song['track']['artists'][0]['uri']\n",
    "                albums[song['track']['name']]['artist']     = song['track']['artists'][0]['name']\n",
    "                albums[song['track']['name']]['album_name'] = song['track']['album']['name']\n",
    "                albums[song['track']['name']]['album_uri']  = song['track']['album']['uri']\n",
    "    return albums\n",
    "\n",
    "\n",
    "\n",
    "get_album_artists(spotify_client,spotify_playlists()['rap_caviar'])"
   ]
  },
  {
   "cell_type": "code",
   "execution_count": 2,
   "metadata": {},
   "outputs": [
    {
     "name": "stdout",
     "output_type": "stream",
     "text": [
      "['acoustic', 'afrobeat', 'alt-rock', 'alternative', 'ambient', 'anime', 'black-metal', 'bluegrass', 'blues', 'bossanova', 'brazil', 'breakbeat', 'british', 'cantopop', 'chicago-house', 'children', 'chill', 'classical', 'club', 'comedy', 'country', 'dance', 'dancehall', 'death-metal', 'deep-house', 'detroit-techno', 'disco', 'disney', 'drum-and-bass', 'dub', 'dubstep', 'edm', 'electro', 'electronic', 'emo', 'folk', 'forro', 'french', 'funk', 'garage', 'german', 'gospel', 'goth', 'grindcore', 'groove', 'grunge', 'guitar', 'happy', 'hard-rock', 'hardcore', 'hardstyle', 'heavy-metal', 'hip-hop', 'holidays', 'honky-tonk', 'house', 'idm', 'indian', 'indie', 'indie-pop', 'industrial', 'iranian', 'j-dance', 'j-idol', 'j-pop', 'j-rock', 'jazz', 'k-pop', 'kids', 'latin', 'latino', 'malay', 'mandopop', 'metal', 'metal-misc', 'metalcore', 'minimal-techno', 'movies', 'mpb', 'new-age', 'new-release', 'opera', 'pagode', 'party', 'philippines-opm', 'piano', 'pop', 'pop-film', 'post-dubstep', 'power-pop', 'progressive-house', 'psych-rock', 'punk', 'punk-rock', 'r-n-b', 'rainy-day', 'reggae', 'reggaeton', 'road-trip', 'rock', 'rock-n-roll', 'rockabilly', 'romance', 'sad', 'salsa', 'samba', 'sertanejo', 'show-tunes', 'singer-songwriter', 'ska', 'sleep', 'songwriter', 'soul', 'soundtracks', 'spanish', 'study', 'summer', 'swedish', 'synth-pop', 'tango', 'techno', 'trance', 'trip-hop', 'turkish', 'work-out', 'world-music']\n"
     ]
    }
   ],
   "source": [
    "dic_genre = spotify_client.recommendation_genre_seeds()\n",
    "print(dic_genre['genres'])\n",
    "\n"
   ]
  },
  {
   "cell_type": "code",
   "execution_count": null,
   "metadata": {},
   "outputs": [],
   "source": [
    "track = spotify_client.search(q=\"iranian\",type=\"track\")\n"
   ]
  },
  {
   "cell_type": "code",
   "execution_count": 2,
   "metadata": {},
   "outputs": [],
   "source": [
    "import boto3\n",
    "import pandas as pd\n",
    "import sys\n",
    "\n"
   ]
  },
  {
   "cell_type": "code",
   "execution_count": 3,
   "metadata": {},
   "outputs": [
    {
     "data": {
      "text/html": [
       "<div>\n",
       "<style scoped>\n",
       "    .dataframe tbody tr th:only-of-type {\n",
       "        vertical-align: middle;\n",
       "    }\n",
       "\n",
       "    .dataframe tbody tr th {\n",
       "        vertical-align: top;\n",
       "    }\n",
       "\n",
       "    .dataframe thead th {\n",
       "        text-align: right;\n",
       "    }\n",
       "</style>\n",
       "<table border=\"1\" class=\"dataframe\">\n",
       "  <thead>\n",
       "    <tr style=\"text-align: right;\">\n",
       "      <th></th>\n",
       "      <th>Year</th>\n",
       "      <th>Album Length(ms)</th>\n",
       "      <th>Album Name</th>\n",
       "      <th>Artist</th>\n",
       "      <th>Songs Number</th>\n",
       "    </tr>\n",
       "  </thead>\n",
       "  <tbody>\n",
       "    <tr>\n",
       "      <th>0</th>\n",
       "      <td>2022</td>\n",
       "      <td>304003</td>\n",
       "      <td>Baby Oonam Dooste Mane</td>\n",
       "      <td>Tohi</td>\n",
       "      <td>1</td>\n",
       "    </tr>\n",
       "    <tr>\n",
       "      <th>1</th>\n",
       "      <td>2022</td>\n",
       "      <td>353779</td>\n",
       "      <td>Jangale Tarik</td>\n",
       "      <td>Ho3ein</td>\n",
       "      <td>1</td>\n",
       "    </tr>\n",
       "    <tr>\n",
       "      <th>2</th>\n",
       "      <td>2022</td>\n",
       "      <td>330527</td>\n",
       "      <td>Shokret</td>\n",
       "      <td>Amir Tataloo</td>\n",
       "      <td>1</td>\n",
       "    </tr>\n",
       "    <tr>\n",
       "      <th>3</th>\n",
       "      <td>2022</td>\n",
       "      <td>270466</td>\n",
       "      <td>Hale</td>\n",
       "      <td>Various Artists</td>\n",
       "      <td>1</td>\n",
       "    </tr>\n",
       "    <tr>\n",
       "      <th>4</th>\n",
       "      <td>2021</td>\n",
       "      <td>220473</td>\n",
       "      <td>Haabil</td>\n",
       "      <td>Sohrab Mj</td>\n",
       "      <td>1</td>\n",
       "    </tr>\n",
       "    <tr>\n",
       "      <th>...</th>\n",
       "      <td>...</td>\n",
       "      <td>...</td>\n",
       "      <td>...</td>\n",
       "      <td>...</td>\n",
       "      <td>...</td>\n",
       "    </tr>\n",
       "    <tr>\n",
       "      <th>73</th>\n",
       "      <td>2021</td>\n",
       "      <td>231357</td>\n",
       "      <td>Q69</td>\n",
       "      <td>Ho3ein</td>\n",
       "      <td>1</td>\n",
       "    </tr>\n",
       "    <tr>\n",
       "      <th>74</th>\n",
       "      <td>2021</td>\n",
       "      <td>165787</td>\n",
       "      <td>Yakuza</td>\n",
       "      <td>Sepehr Khalse</td>\n",
       "      <td>1</td>\n",
       "    </tr>\n",
       "    <tr>\n",
       "      <th>75</th>\n",
       "      <td>2014</td>\n",
       "      <td>2677520</td>\n",
       "      <td>Pir Shodim Vali Bozorg Na</td>\n",
       "      <td>Alireza Jj</td>\n",
       "      <td>9</td>\n",
       "    </tr>\n",
       "    <tr>\n",
       "      <th>76</th>\n",
       "      <td>2016</td>\n",
       "      <td>4240055</td>\n",
       "      <td>Pir Shodim Vali Bozorg Na, Vol. 2</td>\n",
       "      <td>Alireza Jj</td>\n",
       "      <td>16</td>\n",
       "    </tr>\n",
       "    <tr>\n",
       "      <th>77</th>\n",
       "      <td>2021</td>\n",
       "      <td>618500</td>\n",
       "      <td>Alavis</td>\n",
       "      <td>Mehrad Hidden</td>\n",
       "      <td>2</td>\n",
       "    </tr>\n",
       "  </tbody>\n",
       "</table>\n",
       "<p>78 rows × 5 columns</p>\n",
       "</div>"
      ],
      "text/plain": [
       "    Year  Album Length(ms)                         Album Name  \\\n",
       "0   2022            304003             Baby Oonam Dooste Mane   \n",
       "1   2022            353779                      Jangale Tarik   \n",
       "2   2022            330527                            Shokret   \n",
       "3   2022            270466                               Hale   \n",
       "4   2021            220473                             Haabil   \n",
       "..   ...               ...                                ...   \n",
       "73  2021            231357                                Q69   \n",
       "74  2021            165787                             Yakuza   \n",
       "75  2014           2677520          Pir Shodim Vali Bozorg Na   \n",
       "76  2016           4240055  Pir Shodim Vali Bozorg Na, Vol. 2   \n",
       "77  2021            618500                             Alavis   \n",
       "\n",
       "             Artist  Songs Number  \n",
       "0              Tohi             1  \n",
       "1            Ho3ein             1  \n",
       "2      Amir Tataloo             1  \n",
       "3   Various Artists             1  \n",
       "4         Sohrab Mj             1  \n",
       "..              ...           ...  \n",
       "73           Ho3ein             1  \n",
       "74    Sepehr Khalse             1  \n",
       "75       Alireza Jj             9  \n",
       "76       Alireza Jj            16  \n",
       "77    Mehrad Hidden             2  \n",
       "\n",
       "[78 rows x 5 columns]"
      ]
     },
     "execution_count": 3,
     "metadata": {},
     "output_type": "execute_result"
    }
   ],
   "source": [
    "df"
   ]
  },
  {
   "cell_type": "code",
   "execution_count": null,
   "metadata": {},
   "outputs": [],
   "source": []
  }
 ],
 "metadata": {
  "kernelspec": {
   "display_name": "Python 3.9.7 ('base')",
   "language": "python",
   "name": "python3"
  },
  "language_info": {
   "codemirror_mode": {
    "name": "ipython",
    "version": 3
   },
   "file_extension": ".py",
   "mimetype": "text/x-python",
   "name": "python",
   "nbconvert_exporter": "python",
   "pygments_lexer": "ipython3",
   "version": "3.9.7"
  },
  "orig_nbformat": 4,
  "vscode": {
   "interpreter": {
    "hash": "ff514080f6f141fa30927d2eb1cd1793a0032bd7adceb009c10ca689f5dc9966"
   }
  }
 },
 "nbformat": 4,
 "nbformat_minor": 2
}
